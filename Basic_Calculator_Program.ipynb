{
  "nbformat": 4,
  "nbformat_minor": 0,
  "metadata": {
    "colab": {
      "provenance": []
    },
    "kernelspec": {
      "name": "python3",
      "display_name": "Python 3"
    },
    "language_info": {
      "name": "python"
    }
  },
  "cells": [
    {
      "cell_type": "code",
      "execution_count": 4,
      "metadata": {
        "colab": {
          "base_uri": "https://localhost:8080/"
        },
        "id": "yqgBengzQe72",
        "outputId": "47c94ad7-c1da-47c9-8645-58c9f4ff57fe"
      },
      "outputs": [
        {
          "output_type": "stream",
          "name": "stdout",
          "text": [
            "Enter the first number: 10\n",
            "Enter the second number: 5\n",
            "Enter the operation (+, -, *, /): +\n",
            "10 + 5 = 15\n"
          ]
        }
      ],
      "source": [
        "#Creating a mathematical operation that display 10 + 5 = 15.\n",
        "num1 = int(input(\"Enter the first number: \"))\n",
        "num2 = int(input(\"Enter the second number: \"))\n",
        "op = input(\"Enter the operation (+, -, *, /): \")\n",
        "\n",
        "if op == '+':\n",
        "    result = num1 + num2\n",
        "elif op == '-':\n",
        "    result = num1 - num2\n",
        "elif op == '*':\n",
        "    result = num1 * num2\n",
        "elif op == '/':\n",
        "    if num2 != 0:\n",
        "        result = num1 / num2\n",
        "    else:\n",
        "        result = \"Error: Division by zero\"\n",
        "else:\n",
        "    result = \"Error: Invalid operation\"\n",
        "\n",
        "print(f\"{num1} {op} {num2} = {result}\")"
      ]
    }
  ]
}